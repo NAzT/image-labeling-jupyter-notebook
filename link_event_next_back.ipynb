{
 "cells": [
  {
   "cell_type": "code",
   "execution_count": 1,
   "metadata": {},
   "outputs": [],
   "source": [
    "import ipywidgets as widgets\n",
    "from ipywidgets import interact, interact_manual\n",
    "import json"
   ]
  },
  {
   "cell_type": "code",
   "execution_count": null,
   "metadata": {},
   "outputs": [],
   "source": []
  },
  {
   "cell_type": "code",
   "execution_count": 3,
   "metadata": {},
   "outputs": [],
   "source": [
    "def bgr8_to_jpeg(value, quality=75):\n",
    "    return bytes(cv2.imencode('.jpg', value)[1])"
   ]
  },
  {
   "cell_type": "code",
   "execution_count": 4,
   "metadata": {
    "scrolled": true
   },
   "outputs": [],
   "source": [
    "# Create widgets\n",
    "import cv2\n",
    "import glob, os\n",
    "import ipywidgets\n",
    "import traitlets\n",
    "\n",
    "directory = widgets.Dropdown(options=['road_following_DATASET'])\n",
    "list_options = [f for f in os.listdir(directory.value) if f.endswith('.jpg')]\n",
    "\n",
    "images = widgets.Select(options=list_options)\n",
    "\n",
    "# Updates the image options based on directory value\n",
    "def update_images(*args):\n",
    "    images.options = os.listdir(directory.value)\n",
    "\n",
    "# Tie the image options to directory value\n",
    "directory.observe(update_images, 'value')\n",
    "\n",
    "# Show the images\n",
    "def bgr8_to_jpeg(value, quality=75):\n",
    "    return bytes(cv2.imencode('.jpg', value)[1])\n",
    "\n",
    "def show_images(fdir, file):\n",
    "    img = cv2.imread(f'{fdir}/{file}')\n",
    "    camera_widget.value = bgr8_to_jpeg(img)\n"
   ]
  },
  {
   "cell_type": "code",
   "execution_count": 5,
   "metadata": {
    "scrolled": true
   },
   "outputs": [
    {
     "name": "stdout",
     "output_type": "stream",
     "text": [
      "list = 259\n"
     ]
    }
   ],
   "source": [
    "print('list =', len(images.options))\n",
    "snapshot_widget = ipywidgets.Image(width=224, height=224)"
   ]
  },
  {
   "cell_type": "code",
   "execution_count": 6,
   "metadata": {},
   "outputs": [],
   "source": [
    "import enum\n",
    "import cv2\n",
    "import torchvision.transforms as transforms\n",
    "import enum\n",
    "import cv2\n",
    "import torchvision.transforms as transforms\n",
    "from xy_dataset import XYDataset\n",
    "\n",
    "def bgr8_to_jpeg(value, quality=75):\n",
    "    return bytes(cv2.imencode('.jpg', value)[1])\n",
    "\n",
    "\n",
    "DATASETS = ['A', 'B']\n",
    "CATEGORIES = ['apex']\n",
    "TASK = 'road_following'\n",
    "\n",
    "TRANSFORMS = transforms.Compose([\n",
    "    transforms.ColorJitter(0.2, 0.2, 0.2, 0.2),\n",
    "    transforms.Resize((224, 224)),\n",
    "    transforms.ToTensor(),\n",
    "    transforms.Normalize([0.485, 0.456, 0.406], [0.229, 0.224, 0.225])\n",
    "])\n",
    "\n",
    "datasets = {}\n",
    "for name in DATASETS:\n",
    "    datasets[name] = XYDataset(TASK + '_' + name, CATEGORIES, TRANSFORMS, random_hflip=True)                 "
   ]
  },
  {
   "cell_type": "code",
   "execution_count": 7,
   "metadata": {},
   "outputs": [
    {
     "name": "stdout",
     "output_type": "stream",
     "text": [
      "/Users/nat/0000_DataScienceJupyter/000A/ai-car\r\n"
     ]
    }
   ],
   "source": [
    "!pwd"
   ]
  },
  {
   "cell_type": "code",
   "execution_count": 8,
   "metadata": {},
   "outputs": [],
   "source": [
    "label = {}\n",
    "if os.path.isfile('label.json'):    \n",
    "    with open('label.json', 'r') as f:\n",
    "        label = json.load(f)"
   ]
  },
  {
   "cell_type": "code",
   "execution_count": 9,
   "metadata": {},
   "outputs": [],
   "source": [
    "dataset = datasets[DATASETS[0]]"
   ]
  },
  {
   "cell_type": "code",
   "execution_count": 10,
   "metadata": {
    "scrolled": true
   },
   "outputs": [
    {
     "data": {
      "application/vnd.jupyter.widget-view+json": {
       "model_id": "bb90003be8f24c3099fb0989eba46b36",
       "version_major": 2,
       "version_minor": 0
      },
      "text/plain": [
       "interactive(children=(Dropdown(description='fdir', options=('road_following_DATASET',), value='road_following_…"
      ]
     },
     "metadata": {},
     "output_type": "display_data"
    }
   ],
   "source": [
    "import torch\n",
    "import os\n",
    "import glob\n",
    "import uuid\n",
    "import PIL.Image\n",
    "import torch.utils.data\n",
    "import subprocess\n",
    "import cv2\n",
    "import numpy as np\n",
    "\n",
    "\n",
    "from jupyter_clickable_image_widget import ClickableImageWidget\n",
    "import numpy as np\n",
    "\n",
    "def draw_circle(x,y):\n",
    "        image = np.array(Image.open(io.BytesIO(camera_widget.value)))\n",
    "        image = cv2.cvtColor(image, cv2.COLOR_BGR2RGB)\n",
    "        image_save = np.copy(image)\n",
    "        image = cv2.circle(image, (x, y), 8, (0, 255, 0), 3)\n",
    "        return image\n",
    "    \n",
    "\n",
    "def label_img(x,y):\n",
    "    label[images.value] = {'file': images.value, 'x': x, 'y': y, 'fdir': 'road_following_DATASET'}\n",
    "    with open('label.json', 'w', encoding='utf-8') as f:\n",
    "        json.dump(label, f, ensure_ascii=False, indent=4)\n",
    "            \n",
    "def save_snapshot(_, snapshot, msg):\n",
    "    if snapshot['event'] == 'click':\n",
    "        data = snapshot['eventData']\n",
    "        x = data['offsetX']\n",
    "        y = data['offsetY']\n",
    "\n",
    "        lb_x.value = str(x)\n",
    "        lb_y.value = str(y)\n",
    "        image = draw_circle(x, y)\n",
    "        label_img(x,y)\n",
    "            \n",
    "        jpeg_image = bgr8_to_jpeg(image)\n",
    "        snapshot_widget.value = jpeg_image\n",
    "        \n",
    "        dataset.save_entry(\"A\", image, x, y)\n",
    "    \n",
    "        \n",
    "camera_widget = ClickableImageWidget(width=224, height=224)        \n",
    "camera_widget.on_msg(save_snapshot)\n",
    "\n",
    "_ = interact(show_images, fdir=directory, file=images)\n",
    "\n",
    "slider = widgets.IntSlider(min=0, max=len(images.options)-1, value=1, description='Slider')\n",
    "\n",
    "l = widgets.jslink((slider, 'value'), (images, 'index'))\n",
    "slider.observe(images, names='index')\n",
    "\n"
   ]
  },
  {
   "cell_type": "code",
   "execution_count": 11,
   "metadata": {},
   "outputs": [],
   "source": [
    "import ipywidgets\n",
    "x_slider = ipywidgets.FloatSlider(min=-1.0, max=1.0, step=0.001, description='x')\n",
    "y_slider = ipywidgets.FloatSlider(min=-1.0, max=1.0, step=0.001, description='y')\n",
    "\n",
    "lb_x = ipywidgets.Label(str(0))\n",
    "lb_y = ipywidgets.Label(str(0))"
   ]
  },
  {
   "cell_type": "code",
   "execution_count": 12,
   "metadata": {},
   "outputs": [],
   "source": [
    "import io\n",
    "from PIL import Image\n",
    "def hhhh(image_bytes):\n",
    "    image = np.uint8(Image.open(io.BytesIO(image_bytes))) \n",
    "    image = cv2.cvtColor(image, cv2.COLOR_BGR2RGB)\n",
    "    if images.value in label:\n",
    "        print(\"{} exists!\".format(images.value))\n",
    "        x = label[images.value]['x']\n",
    "        y = label[images.value]['y']\n",
    "        \n",
    "        lb_x.value = str(x)\n",
    "        lb_y.value = str(y)        \n",
    "        image = cv2.circle(image, (x, y), 8, (0, 255, 0), 3)\n",
    "    return bgr8_to_jpeg(image)\n",
    "    "
   ]
  },
  {
   "cell_type": "code",
   "execution_count": 13,
   "metadata": {
    "scrolled": true
   },
   "outputs": [
    {
     "name": "stdout",
     "output_type": "stream",
     "text": [
      "A-1571722005.766392.jpg exists!\n"
     ]
    },
    {
     "data": {
      "text/plain": [
       "<traitlets.traitlets.directional_link at 0x11d205be0>"
      ]
     },
     "execution_count": 13,
     "metadata": {},
     "output_type": "execute_result"
    }
   ],
   "source": [
    "button_r = widgets.Button(description=\">\")\n",
    "button_l = widgets.Button(description=\"<\")\n",
    "def on_button_clicked_r(b):\n",
    "    if images.index < len(images.options)-1:\n",
    "        images.index = images.index + 1\n",
    "    \n",
    "def on_button_clicked_l(b):\n",
    "    if images.index > 0:\n",
    "        images.index = images.index - 1\n",
    "    \n",
    "button_r.on_click(on_button_clicked_r)\n",
    "button_l.on_click(on_button_clicked_l)\n",
    "\n",
    "lb = widgets.Label(str(images.index))\n",
    "l2 = widgets.jslink((lb, 'value'), (images, 'index'))\n",
    "\n",
    "# traitlets.dlink((camera_widget, 'value'), (snapshot_widget, 'value'), transform=bgr8_to_jpeg)\n",
    "traitlets.dlink((camera_widget, 'value'), (snapshot_widget, 'value'), transform=hhhh)\n",
    "\n"
   ]
  },
  {
   "cell_type": "code",
   "execution_count": 14,
   "metadata": {},
   "outputs": [],
   "source": [
    "import ipywidgets as widgets\n",
    "import numpy\n",
    "\n",
    "\n",
    "ui = widgets.HBox([x_slider, y_slider])\n",
    "def f(x,y):\n",
    "    xx =  numpy.interp(x, [-1, 1], [1, 224])\n",
    "    yy =  numpy.interp(y, [-1, 1], [1, 224])    \n",
    "\n",
    "    xx = int(xx)\n",
    "    yy = int(yy)\n",
    "    label_img(xx,yy)\n",
    "    \n",
    "    lb_x.value = str(xx)\n",
    "    lb_y.value = str(yy)\n",
    "    snapshot_widget.value = bgr8_to_jpeg(draw_circle(xx, yy))\n",
    "\n",
    "out = widgets.interactive_output(f, {'x': x_slider, 'y': y_slider})"
   ]
  },
  {
   "cell_type": "code",
   "execution_count": 15,
   "metadata": {},
   "outputs": [],
   "source": [
    "# from IPython.display import display\n",
    "xbutton = ipywidgets.Button(description=\"Save\")\n",
    "output = widgets.Output()\n",
    "def xon_button_clicked(b):\n",
    "    with output:\n",
    "        processed = 0\n",
    "        for item in list_options:\n",
    "            if item in label:\n",
    "                obj = label[item]\n",
    "                x = obj['x']\n",
    "                y = obj['y']                \n",
    "                fdir = obj['fdir']\n",
    "                file = obj['file']                \n",
    "                img = cv2.imread(f'{fdir}/{file}')\n",
    "                processed += 1\n",
    "                dataset.save_entry(\"A\", img, x, y)\n",
    "                \n",
    "        print('{} images saved.'.format(processed))\n",
    "            \n",
    "\n",
    "xbutton.on_click(xon_button_clicked)"
   ]
  },
  {
   "cell_type": "code",
   "execution_count": 16,
   "metadata": {},
   "outputs": [],
   "source": [
    "!rm road_following_A/A/*.jpg"
   ]
  },
  {
   "cell_type": "code",
   "execution_count": 17,
   "metadata": {},
   "outputs": [
    {
     "data": {
      "application/vnd.jupyter.widget-view+json": {
       "model_id": "745a9fbac29f4f81a7bc724cc2b7b898",
       "version_major": 2,
       "version_minor": 0
      },
      "text/plain": [
       "interactive(children=(Dropdown(description='fdir', options=('road_following_DATASET',), value='road_following_…"
      ]
     },
     "metadata": {},
     "output_type": "display_data"
    }
   ],
   "source": [
    "images_ui = widgets.HBox([camera_widget, snapshot_widget])\n",
    "\n",
    "_ = interact(show_images, fdir=directory, file=images)"
   ]
  },
  {
   "cell_type": "code",
   "execution_count": 18,
   "metadata": {
    "scrolled": true
   },
   "outputs": [
    {
     "data": {
      "application/vnd.jupyter.widget-view+json": {
       "model_id": "a3eef0a7fa934134832df997a18eb9d9",
       "version_major": 2,
       "version_minor": 0
      },
      "text/plain": [
       "HBox(children=(ClickableImageWidget(value=b'\\xff\\xd8\\xff\\xe0\\x00\\x10JFIF\\x00\\x01\\x01\\x00\\x00\\x01\\x00\\x01\\x00\\x…"
      ]
     },
     "metadata": {},
     "output_type": "display_data"
    },
    {
     "data": {
      "application/vnd.jupyter.widget-view+json": {
       "model_id": "d2cea2c25d5b4a93a7ec8798612ed6e6",
       "version_major": 2,
       "version_minor": 0
      },
      "text/plain": [
       "Label(value='0')"
      ]
     },
     "metadata": {},
     "output_type": "display_data"
    },
    {
     "data": {
      "application/vnd.jupyter.widget-view+json": {
       "model_id": "c94aa4a8e44643b9a2a9305c0b7dc884",
       "version_major": 2,
       "version_minor": 0
      },
      "text/plain": [
       "HBox(children=(Button(description='<', style=ButtonStyle()), Button(description='>', style=ButtonStyle())))"
      ]
     },
     "metadata": {},
     "output_type": "display_data"
    }
   ],
   "source": [
    "display(images_ui)\n",
    "display(lb, widgets.HBox([button_l, button_r]))"
   ]
  },
  {
   "cell_type": "code",
   "execution_count": 19,
   "metadata": {},
   "outputs": [
    {
     "data": {
      "application/vnd.jupyter.widget-view+json": {
       "model_id": "5264271e6ed443cc808688d6f3ad1050",
       "version_major": 2,
       "version_minor": 0
      },
      "text/plain": [
       "HBox(children=(FloatSlider(value=0.0, description='x', max=1.0, min=-1.0, step=0.001), Label(value='112')))"
      ]
     },
     "metadata": {},
     "output_type": "display_data"
    },
    {
     "data": {
      "application/vnd.jupyter.widget-view+json": {
       "model_id": "1d2396fb79b64169b3f54367de379ba4",
       "version_major": 2,
       "version_minor": 0
      },
      "text/plain": [
       "HBox(children=(FloatSlider(value=0.0, description='y', max=1.0, min=-1.0, step=0.001), Label(value='112')))"
      ]
     },
     "metadata": {},
     "output_type": "display_data"
    },
    {
     "data": {
      "application/vnd.jupyter.widget-view+json": {
       "model_id": "2f8d6b56b6834f0ebd32cd9325854d71",
       "version_major": 2,
       "version_minor": 0
      },
      "text/plain": [
       "Button(description='Save', style=ButtonStyle())"
      ]
     },
     "metadata": {},
     "output_type": "display_data"
    },
    {
     "data": {
      "application/vnd.jupyter.widget-view+json": {
       "model_id": "9fa3d54197194a42a890b31ad0d480f3",
       "version_major": 2,
       "version_minor": 0
      },
      "text/plain": [
       "Output()"
      ]
     },
     "metadata": {},
     "output_type": "display_data"
    }
   ],
   "source": [
    "display(ipywidgets.HBox([x_slider, lb_x]))\n",
    "display(ipywidgets.HBox([y_slider, lb_y]))\n",
    "display(xbutton, output)"
   ]
  },
  {
   "cell_type": "code",
   "execution_count": 21,
   "metadata": {},
   "outputs": [
    {
     "name": "stdout",
     "output_type": "stream",
     "text": [
      "/Users/nat/0000_DataScienceJupyter/000A/ai-car\r\n"
     ]
    }
   ],
   "source": [
    "!pwd"
   ]
  },
  {
   "cell_type": "code",
   "execution_count": null,
   "metadata": {},
   "outputs": [],
   "source": []
  },
  {
   "cell_type": "code",
   "execution_count": null,
   "metadata": {},
   "outputs": [],
   "source": []
  }
 ],
 "metadata": {
  "kernelspec": {
   "display_name": "Python 3",
   "language": "python",
   "name": "python3"
  },
  "language_info": {
   "codemirror_mode": {
    "name": "ipython",
    "version": 3
   },
   "file_extension": ".py",
   "mimetype": "text/x-python",
   "name": "python",
   "nbconvert_exporter": "python",
   "pygments_lexer": "ipython3",
   "version": "3.7.3"
  }
 },
 "nbformat": 4,
 "nbformat_minor": 2
}
